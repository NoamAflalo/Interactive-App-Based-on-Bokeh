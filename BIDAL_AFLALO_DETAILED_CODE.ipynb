{
 "cells": [
  {
   "cell_type": "markdown",
   "metadata": {},
   "source": [
    "# <center>Python Project : intercative pricing app based on Bokeh</center>\n",
    "#### Ines BIDAL, Noam AFLALO"
   ]
  },
  {
   "cell_type": "code",
   "execution_count": 1,
   "metadata": {},
   "outputs": [],
   "source": [
    "import warnings\n",
    "warnings.filterwarnings(\"ignore\")"
   ]
  },
  {
   "cell_type": "code",
   "execution_count": 2,
   "metadata": {},
   "outputs": [],
   "source": [
    "import pandas as pd\n",
    "import numpy as np\n",
    "import dask.array as da\n",
    "import matplotlib.pyplot as plt\n",
    "import bokeh\n",
    "import math\n",
    "import scipy.stats as stats\n",
    "from ipywidgets import interact, interactive, fixed, interact_manual\n",
    "from scipy.sparse import diags\n",
    "from mpl_toolkits.mplot3d import Axes3D\n",
    "from scipy.stats import norm\n",
    "import numpy.linalg as lng\n",
    "import ipywidgets as widgets"
   ]
  },
  {
   "cell_type": "code",
   "execution_count": 3,
   "metadata": {},
   "outputs": [],
   "source": [
    "from bokeh.io import push_notebook, show, output_notebook\n",
    "from bokeh.layouts import row\n",
    "from bokeh.plotting import figure, output_file, reset_output\n",
    "from bokeh.core.properties import Instance, String\n",
    "from bokeh.models import ColumnDataSource, LayoutDOM\n",
    "from bokeh.util.compiler import TypeScript"
   ]
  },
  {
   "cell_type": "code",
   "execution_count": 4,
   "metadata": {},
   "outputs": [
    {
     "data": {
      "text/html": [
       "<table style=\"border: 2px solid white;\">\n",
       "<tr>\n",
       "<td style=\"vertical-align: top; border: 0px solid white\">\n",
       "<h3 style=\"text-align: left;\">Client</h3>\n",
       "<ul style=\"text-align: left; list-style: none; margin: 0; padding: 0;\">\n",
       "  <li><b>Scheduler: </b>inproc://192.168.1.213/5184/1</li>\n",
       "  <li><b>Dashboard: </b><a href='http://192.168.1.213:51959/status' target='_blank'>http://192.168.1.213:51959/status</a></li>\n",
       "</ul>\n",
       "</td>\n",
       "<td style=\"vertical-align: top; border: 0px solid white\">\n",
       "<h3 style=\"text-align: left;\">Cluster</h3>\n",
       "<ul style=\"text-align: left; list-style:none; margin: 0; padding: 0;\">\n",
       "  <li><b>Workers: </b>1</li>\n",
       "  <li><b>Cores: </b>4</li>\n",
       "  <li><b>Memory: </b>2.00 GB</li>\n",
       "</ul>\n",
       "</td>\n",
       "</tr>\n",
       "</table>"
      ],
      "text/plain": [
       "<Client: 'inproc://192.168.1.213/5184/1' processes=1 threads=4, memory=2.00 GB>"
      ]
     },
     "execution_count": 4,
     "metadata": {},
     "output_type": "execute_result"
    }
   ],
   "source": [
    "# See how the memory is working \n",
    "from dask.distributed import Client, progress\n",
    "client = Client(processes=False, threads_per_worker=4,\n",
    "                n_workers=1, memory_limit='2e9')\n",
    "client"
   ]
  },
  {
   "cell_type": "markdown",
   "metadata": {},
   "source": [
    "# Part I : Graphical representation using Bokeh of the accuracy of the Euler Implicit Scheme to price European options.\n",
    "\n",
    "## A/ Pricing using Black-Scholes (Closed form formula)"
   ]
  },
  {
   "cell_type": "code",
   "execution_count": 5,
   "metadata": {},
   "outputs": [],
   "source": [
    "#Black and Scholes formula for European put\n",
    "def P_BS(s, K, T):\n",
    "    d1 = math.log(s / (K * math.exp(-r*T))) / (sigma * math.sqrt(T)) + sigma * math.sqrt(T) / 2\n",
    "    d2 = math.log(s / (K * math.exp(- r * T))) / (sigma * math.sqrt(T)) - sigma * math.sqrt(T) / 2\n",
    "    Nd1 = stats.norm.cdf(- d1, loc=0, scale=1)\n",
    "    Nd2 = stats.norm.cdf(- d2, loc=0, scale=1)\n",
    "    P = math.exp(- r * T) * K * Nd2 - s * Nd1\n",
    "    return P\n",
    "\n",
    "\n",
    "#Black and Scholes formula for European call\n",
    "def C_BS(s, K, T):\n",
    "    d1 = math.log(s/(K* math.exp(-r*T))) / (sigma * math.sqrt(T)) + sigma * math.sqrt(T) / 2\n",
    "    d2 = math.log(s/(K* math.exp(-r*T))) / (sigma * math.sqrt(T)) - sigma * math.sqrt(T) / 2\n",
    "    Nd1 = stats.norm.cdf(d1, loc=0, scale=1)\n",
    "    Nd2 = stats.norm.cdf(d2, loc=0, scale=1)\n",
    "    C = -math.exp(r*T) * K * Nd2 + s * Nd1\n",
    "    return C"
   ]
  },
  {
   "cell_type": "markdown",
   "metadata": {},
   "source": [
    "## B/ Pricing using the Implicit Euler Scheme (approximation) "
   ]
  },
  {
   "cell_type": "code",
   "execution_count": 6,
   "metadata": {},
   "outputs": [],
   "source": [
    "# initialisation\n",
    "S=100\n",
    "K = 100\n",
    "r = 0.01\n",
    "T = 1\n",
    "sigma = 0.2"
   ]
  },
  {
   "cell_type": "code",
   "execution_count": 7,
   "metadata": {},
   "outputs": [],
   "source": [
    "# NUMERICAL PARAMETERS\n",
    "N=10\n",
    "I=10\n",
    "S_min=0; S_max=200;\n",
    "h = (S_max - S_min) / (I + 1)\n",
    "dt = T / N\n",
    "Sval = 80"
   ]
  },
  {
   "cell_type": "code",
   "execution_count": 8,
   "metadata": {},
   "outputs": [],
   "source": [
    "# payoff function \n",
    "def u0(s, K=K) : \n",
    "    return np.maximum(0, K - s)\n",
    "\n",
    "def u_left(t, S_min=S_min) : \n",
    "    return K * np.exp(-r * t) - S_min\n",
    "\n",
    "def u_right(t) :\n",
    "    return 0\n",
    "\n",
    "def u_call(s, K):\n",
    "    return np.maximum(0, s - K)"
   ]
  },
  {
   "cell_type": "code",
   "execution_count": 9,
   "metadata": {},
   "outputs": [],
   "source": [
    "def IE(I,N, K, S0, sigma=sigma, T=T):\n",
    "    \n",
    "    \n",
    "    # NUMERICAL PARAMETERS\n",
    "    S_min = max(0, S0 - 100)\n",
    "    S_max = S0 + 100\n",
    "    Sval = 0.8 * S0\n",
    "    dt = T / N\n",
    "    h = (S_max - S_min) / I\n",
    "    \n",
    "    #vectors\n",
    "    S = np.array([(S_min + j * h) for j in range(1,I+1)])\n",
    "\n",
    "    tn = np.array([n * dt for n in range(N+1)])\n",
    "\n",
    "    alpha = ((sigma ** 2)*(S ** 2)/(2 * (h ** 2)))\n",
    "\n",
    "    beta = (r / (2 * h)) * S\n",
    "    \n",
    "    # q(t)\n",
    "\n",
    "    def q(t):\n",
    "        y = np.zeros((I,1))\n",
    "        y[0] = ( - alpha[1] + beta[1]) * u_left(t, S_min)\n",
    "        y[-1] = ( - alpha[-1] - beta[-1]) * u_right(t)\n",
    "        return y\n",
    "\n",
    "    # A\n",
    "    array = list(- alpha[:- 2] - beta[:- 2])\n",
    "    array.append(0)\n",
    "    array = np.array(array)\n",
    "    matToTridiag = np.array([- alpha[1::] + beta[1::],2 * alpha + r,array])\n",
    "    offset =  [- 1,0,1]\n",
    "\n",
    "    A = diags(matToTridiag,offset).toarray()\n",
    "    \n",
    "    U = u0(S, K).reshape(I, 1)\n",
    "    \n",
    "    for i in range(N):\n",
    "        U = lng.solve(dt * A + np.eye(I), -q(tn[i + 1])*dt +U)\n",
    "\n",
    "    \n",
    "    return(U, S)"
   ]
  },
  {
   "cell_type": "markdown",
   "metadata": {},
   "source": [
    "# Graphical comparison between the two methods of pricing using bokeh"
   ]
  },
  {
   "cell_type": "code",
   "execution_count": 10,
   "metadata": {},
   "outputs": [],
   "source": [
    "def plotter_eu_put(I, N, K, S0, sigma=sigma, T=T) :\n",
    "    V = IE(I, N, K, S0, sigma, T)\n",
    "    \n",
    "    opts = dict(plot_width=550, plot_height=350, min_border=0, \n",
    "            title='European Put option')\n",
    "    p = figure(**opts)\n",
    "    r1 = p.line(V[1], V[0].ravel(), line_width=2, legend_label='Euler Scheme')\n",
    "    r2 = p.line(V[1], [u0(i, K) for i in V[1]], line_width=2, \n",
    "                color='red', legend_label='Payoff')\n",
    "    r3 = p.line(V[1], [P_BS(i, K, T) for i in V[1]], line_width=1, \n",
    "               color='black', legend_label='Black & Scholes', \n",
    "                line_dash='4 4')\n",
    "    p.xaxis.axis_label = 'S'\n",
    "    p.yaxis.axis_label = 'Price'\n",
    "    \n",
    "    try :\n",
    "        reset_output()\n",
    "        output_notebook()\n",
    "    except :\n",
    "        try : \n",
    "            output_notebook()\n",
    "        except :\n",
    "            pass\n",
    "    \n",
    "    t1 = show(p, notebook_handle=True)"
   ]
  },
  {
   "cell_type": "code",
   "execution_count": 11,
   "metadata": {},
   "outputs": [],
   "source": [
    "def plotter_eu_call(I, N, K, S0, sigma=sigma, T=T):\n",
    "    V = IE(I, N, K, S0, sigma, T)\n",
    "    call = V[0].ravel() + V[1] - K * np.exp(-r*T)\n",
    "    \n",
    "    opts = dict(plot_width=550, plot_height=350, min_border=0, \n",
    "            title='European Put option')\n",
    "    p = figure(**opts)\n",
    "    r1 = p.line(V[1], call, line_width=2, legend_label='Euler Scheme')\n",
    "    r2 = p.line(V[1], [u_call(i, K) for i in V[1]], line_width=2, \n",
    "                color='red', legend_label='Payoff')\n",
    "    r3 = p.line(V[1], [C_BS(i, K, T) for i in V[1]], line_width=1, \n",
    "               color='black', legend_label='Black & Scholes', \n",
    "                line_dash='4 4')\n",
    "    p.xaxis.axis_label = 'S'\n",
    "    p.yaxis.axis_label = 'Price'\n",
    "    \n",
    "    try :\n",
    "        reset_output()\n",
    "        output_notebook()\n",
    "    except :\n",
    "        try : \n",
    "            output_notebook()\n",
    "        except :\n",
    "            pass\n",
    "    \n",
    "    t1 = show(p, notebook_handle=True)"
   ]
  },
  {
   "cell_type": "code",
   "execution_count": 12,
   "metadata": {},
   "outputs": [
    {
     "data": {
      "application/vnd.jupyter.widget-view+json": {
       "model_id": "54017587026f47099c31c3a31632ebb9",
       "version_major": 2,
       "version_minor": 0
      },
      "text/plain": [
       "interactive(children=(Dropdown(description='Product', options=('Put', 'Call'), value='Put'), Output()), _dom_c…"
      ]
     },
     "metadata": {},
     "output_type": "display_data"
    }
   ],
   "source": [
    "from ipywidgets import interact, interactive, fixed, interact_manual\n",
    "import ipywidgets as widgets\n",
    "\n",
    "def func(Product):\n",
    "    \n",
    "    if Product == 'Put' :\n",
    "        w = interact(lambda I, N, K, S0, sig, T : plotter_eu_put( I, N, K, S0, sig, T), \n",
    "            I=widgets.IntSlider(min=10, max=30, step=1, value=20, description='Spot mesh I'), \n",
    "            N=widgets.IntSlider(min=10, max=30, step=1, value=20, description='Time Mesh N' ), \n",
    "            K=widgets.IntSlider(min=10, max=200, step=10, value=100, description='Strike K'), \n",
    "            S0=widgets.IntSlider(min=10, max=200, step=10, value=100, description='Spot S'), \n",
    "            sig=widgets.BoundedFloatText(value=0.2, min=0, max=1.0, step=0.1, description='Volatility:', disabled=False),\n",
    "            T=widgets.BoundedFloatText(value=1, min=0, max=2.0, step=0.1, description='Maturity:', disabled=False))\n",
    "    \n",
    "    elif Product == 'Call' :\n",
    "        w = interact(lambda I, N, K, S0, sig, T : plotter_eu_call( I, N, K, S0, sig, T), \n",
    "            I=widgets.IntSlider(min=10, max=30, step=1, value=20, description='Spot mesh I'), \n",
    "            N=widgets.IntSlider(min=10, max=30, step=1, value=20, description='Time Mesh N' ), \n",
    "            K=widgets.IntSlider(min=10, max=200, step=10, value=100, description='Strike K'), \n",
    "            S0=widgets.IntSlider(min=10, max=200, step=10, value=100, description='Spot S'), \n",
    "            sig=widgets.BoundedFloatText(value=0.2, min=0, max=1.0, step=0.1, description='Volatility:', disabled=False),\n",
    "            T=widgets.BoundedFloatText(value=1, min=0, max=2.0, step=0.1, description='Maturity:', disabled=False))\n",
    "        \n",
    "wf = interact(func, Product=['Put', 'Call'])"
   ]
  },
  {
   "cell_type": "markdown",
   "metadata": {},
   "source": [
    "# Part II : Pricing of exotic options using different kinds of Monte Carlo simulation using Dask and Bokeh"
   ]
  },
  {
   "cell_type": "code",
   "execution_count": 13,
   "metadata": {},
   "outputs": [],
   "source": [
    "T = 1\n",
    "S0 = 100 # Initial price            \n",
    "r = 0.01 # Risk free interest rate\n",
    "sigma = 0.2 # Volatility\n",
    "rho = -0.5 # Correlation\n",
    "kappa = 2.5 # Revert rate\n",
    "theta = 0.05 # Long-term volatility\n",
    "xi = 0.04 # Volatility of instantaneous volatility\n",
    "v0 = 0.2 # Initial instantaneous volatility\n",
    "Accumulationlevel = 70 # Accumulation Level\n",
    "B = 110 # Barrier Level\n",
    "nb_steps = 252 #Nombre de steps\n",
    "nb_path = 1000 #Nombre de paths \n",
    "S = np.arange(50,150,252)\n",
    "t = np.arange(0.1,1)\n",
    "surface=True"
   ]
  },
  {
   "cell_type": "markdown",
   "metadata": {},
   "source": [
    "## A/ Pricing of an accumulator under constant volatility model (Black-Scholes)"
   ]
  },
  {
   "cell_type": "code",
   "execution_count": 14,
   "metadata": {},
   "outputs": [],
   "source": [
    "# Nous avons rencontré un problème avec Dask : on ne peut pas assigner des parties de array exemple : arr[0] = 1 impossible a faire. \n",
    "# Une solution est de concatener des bouts de array. Cependant, on perd en rapidité, la version numpy est même préférée.\n",
    "# Version Dask:\n",
    "#from tqdm.autonotebook import tqdm\n",
    "#def Black_Scholes_path(S0, T, r, sigma, nb_steps):\n",
    "#    '''Function that generate B&S path with constant volatility sigma'''\n",
    "#    S = da.from_array(np.array([S0]), chunks=(1,))\n",
    "#    dt = T / nb_steps\n",
    "#    dask_arrays = [S]\n",
    "#    for t in range(1, nb_steps):\n",
    "#        eps = np.random.standard_normal(1)   # pseudorandom numbers\n",
    "# #         arr = da.from_array(np.array([dask_arrays[-1] * math.exp((r-0.5*sigma**2 ) * dt + sigma * eps * math.sqrt(dt))]), \n",
    "# #                             chunks=1)\n",
    "#        arr = dask_arrays[-1] * math.exp((r-0.5*sigma**2 ) * dt + sigma * eps * math.sqrt(dt))\n",
    "#        dask_arrays.append(arr)\n",
    "#    return da.concatenate(dask_arrays, axis=0).compute()\n"
   ]
  },
  {
   "cell_type": "code",
   "execution_count": 15,
   "metadata": {},
   "outputs": [],
   "source": [
    "#Version Numpy:\n",
    "def Black_Scholes_path(S0, T, r, sigma, nb_steps):\n",
    "    '''Function that generate B&S path with constant volatility sigma'''\n",
    "    \n",
    "    S = np.zeros(nb_steps)\n",
    "    S[0] = S0\n",
    "    dt = T / nb_steps\n",
    "    \n",
    "    for t in range(1, nb_steps):\n",
    "        eps = np.random.standard_normal(1)   # pseudorandom numbers\n",
    "        S[t] = S[t - 1] * np.exp((r - 0.5 * sigma**2 ) * dt + sigma * eps * np.sqrt(dt))\n",
    "        \n",
    "    return S"
   ]
  },
  {
   "cell_type": "markdown",
   "metadata": {},
   "source": [
    "## B/ Pricing of an accumulator under non constant volatility model (Heston model)"
   ]
  },
  {
   "cell_type": "code",
   "execution_count": 16,
   "metadata": {},
   "outputs": [],
   "source": [
    "# Nous avons rencontré un problème avec Dask : on ne peut pas assigner des parties de array exemple : arr[0] = 1 impossible a faire. \n",
    "# Une solution est de concatener des bouts de array. Cependant, on perd en rapidité, la version numpy est même préférée.\n",
    "# Version Dask:\n",
    "#def HeMC (S0, r, v0, rho, kappa, theta, xi, T, nb_steps):\n",
    "#    '''Generate a Monte Carlo simulation for the Heston model'''\n",
    "#\n",
    "#    # Generate random Brownian Motion\n",
    "#    R = np.array([0, 0])\n",
    "#    COV = np.matrix([[1, rho], [rho, 1]])\n",
    "#    W = np.random.multivariate_normal(R, COV, nb_steps)\n",
    "#    W = da.from_array(W, chunks=(2, 10))\n",
    "#    W_S = W[:, 0]\n",
    "#    W_v = W[:, 1]\n",
    "#    dt = T / nb_steps\n",
    "#    # Generate paths\n",
    "#    arr = np.zeros((nb_steps, 1))\n",
    "#    arr[:, 0] = v0\n",
    "#    v = [da.from_array(arr, chunks=1)]\n",
    "#    S = [da.from_array(np.array([S0]), chunks=1)]\n",
    "#\n",
    "#    for t in range(1,nb_steps):\n",
    "#        v_tmp = v[-1] + kappa * (theta - v[-1]) * dt + xi * np.sqrt(v[-1]) * np.sqrt(dt) * W_v[t]                  \n",
    "#        v.append(v_tmp)\n",
    "#\n",
    "#        S_tmp = S[-1] * np.exp((r - 0.5 * v[-1][0]) * dt + np.sqrt(v[-1][0] * dt) * W_S[t])\n",
    "#        S.append(S_tmp)\n",
    "#\n",
    "#    S = da.concatenate(S, axis=0).compute()\n",
    "#    vol = da.concatenate(v, axis=1).compute()\n",
    "#   \n",
    "#    return S, vol"
   ]
  },
  {
   "cell_type": "code",
   "execution_count": 17,
   "metadata": {},
   "outputs": [],
   "source": [
    "# Version Numpy:\n",
    "\n",
    "def HeMC (S0, r, v0, rho, kappa, theta, xi, T, nb_steps):\n",
    "    '''Generate a Monte Carlo simulation for the Heston model'''\n",
    "\n",
    "    # Generate random Brownian Motion\n",
    "    R = np.array([0, 0])\n",
    "    COV = np.matrix([[1, rho], [rho, 1]])\n",
    "    W = np.random.multivariate_normal(R, COV, nb_steps)\n",
    "    W_S = W[:, 0]\n",
    "    W_v = W[:, 1]\n",
    "    dt = T / nb_steps\n",
    "    # Generate paths\n",
    "    v = np.zeros(nb_steps)\n",
    "    v[0] = v0\n",
    "    S = np.zeros(nb_steps)\n",
    "    S[0] = S0\n",
    "    \n",
    "    \n",
    "    expiry_dates = np.zeros(nb_steps)\n",
    "    strikes = np.zeros(nb_steps)\n",
    "    strikes[0] = S0\n",
    "    vol = np.zeros((nb_steps,nb_steps))\n",
    "    vol[:, 0] = v0\n",
    "    \n",
    "    for t in range(1,nb_steps):\n",
    "        expiry_dates[t] = t * dt\n",
    "        v[t] = v[t-1] + kappa * (theta - v[t-1]) * dt + xi * np.sqrt(v[t-1]) * np.sqrt(dt) * W_v[t]\n",
    "        vol[:, t] = v[t]\n",
    "        S[t] = S[t-1] * np.exp((r - 0.5 * v[t-1]) * dt + np.sqrt(v[t-1] * dt) * W_S[t])\n",
    "        strikes = S[t]\n",
    "    return S, vol\n"
   ]
  },
  {
   "cell_type": "code",
   "execution_count": 18,
   "metadata": {},
   "outputs": [],
   "source": [
    "def Accumulator(S0, kappa, theta, xi, Accumulationlevel, \n",
    "                sigma, B, Type, Model, T=T,\n",
    "                nb_path=nb_path, nb_steps=nb_steps, r=r):  ## ca calcule le prix d'un accu, on precise si on veut priceer avec barrier continue ou discret + si on veut faire avec vol constante ou stochastique. \n",
    "    \n",
    "    currentPayoff = np.zeros(nb_path)\n",
    "    \n",
    "    if Type == \"Continuous\":\n",
    "            shift=np.exp(0.5826 * sigma * np.sqrt(T/nb_steps))\n",
    "            B = B / shift\n",
    "            \n",
    "    for i in range(nb_path):\n",
    "        if Model == \"BS\":\n",
    "            S = Black_Scholes_path(S0, T, r, sigma, nb_steps)\n",
    "        else: \n",
    "            S= HeMC (S0, r, v0, rho, kappa, theta, xi, T, nb_steps)[0]\n",
    "            if (i == 0 and surface):\n",
    "                plotter_heston(S0, kappa, theta, xi, v0, rho, nb_steps, \n",
    "                              r, T)  # Si on fait un pricing avec vol stochastique alors on affiche aussi une surface de volatilite utilise. \n",
    "        for t in range(1, nb_steps):\n",
    "            if S[t] > B:\n",
    "                break\n",
    "            elif (S[t] < B) & (S[t] > Accumulationlevel):\n",
    "                currentPayoff[i] = currentPayoff[i] + (S[t]- Accumulationlevel)\n",
    "                \n",
    "            else: \n",
    "                currentPayoff[i] = currentPayoff[i] + 2 * (S[t]- Accumulationlevel)\n",
    "    print('The price for this configuration is : '+str(np.exp(-r * T) * np.mean(currentPayoff)))\n",
    "    return np.exp(-r * T) * np.mean(currentPayoff)  "
   ]
  },
  {
   "cell_type": "code",
   "execution_count": 19,
   "metadata": {},
   "outputs": [],
   "source": [
    "# Code Java Script\n",
    "TS_CODE = \"\"\"\n",
    "\n",
    "import {LayoutDOM, LayoutDOMView} from \"models/layouts/layout_dom\"\n",
    "import {ColumnDataSource} from \"models/sources/column_data_source\"\n",
    "import {LayoutItem} from \"core/layout\"\n",
    "import * as p from \"core/properties\"\n",
    "\n",
    "declare namespace vis {\n",
    "  class Graph3d {\n",
    "    constructor(el: HTMLElement, data: object, OPTIONS: object)\n",
    "    setData(data: vis.DataSet): void\n",
    "  }\n",
    "\n",
    "  class DataSet {\n",
    "    add(data: unknown): void\n",
    "  }\n",
    "}\n",
    "\n",
    "const OPTIONS = {\n",
    "  width: '600px',\n",
    "  height: '600px',\n",
    "  style: 'surface',\n",
    "  showPerspective: true,\n",
    "  showGrid: true,\n",
    "  keepAspectRatio: true,\n",
    "  verticalRatio: 1.0,\n",
    "  legendLabel: 'stuff',\n",
    "  cameraPosition: {\n",
    "    horizontal: -0.35,\n",
    "    vertical: 0.22,\n",
    "    distance: 1.8,\n",
    "  },\n",
    "}\n",
    "\n",
    "export class Surface3dView extends LayoutDOMView {\n",
    "  model: Surface3d\n",
    "\n",
    "  private _graph: vis.Graph3d\n",
    "\n",
    "  initialize(): void {\n",
    "    super.initialize()\n",
    "\n",
    "    const url = \"https://cdnjs.cloudflare.com/ajax/libs/vis/4.16.1/vis.min.js\"\n",
    "    const script = document.createElement(\"script\")\n",
    "    script.onload = () => this._init()\n",
    "    script.async = false\n",
    "    script.src = url\n",
    "    document.head.appendChild(script)\n",
    "  }\n",
    "\n",
    "  private _init(): void {\n",
    "\n",
    "    this._graph = new vis.Graph3d(this.el, this.get_data(), OPTIONS)\n",
    "\n",
    "    this.connect(this.model.data_source.change, () => {\n",
    "      this._graph.setData(this.get_data())\n",
    "    })\n",
    "  }\n",
    "\n",
    "  get_data(): vis.DataSet {\n",
    "    const data = new vis.DataSet()\n",
    "    const source = this.model.data_source\n",
    "    for (let i = 0; i < source.get_length()!; i++) {\n",
    "      data.add({\n",
    "        x: source.data[this.model.x][i],\n",
    "        y: source.data[this.model.y][i],\n",
    "        z: source.data[this.model.z][i],\n",
    "      })\n",
    "    }\n",
    "    return data\n",
    "  }\n",
    "\n",
    "  get child_models(): LayoutDOM[] {\n",
    "    return []\n",
    "  }\n",
    "\n",
    "  _update_layout(): void {\n",
    "    this.layout = new LayoutItem()\n",
    "    this.layout.set_sizing(this.box_sizing())\n",
    "  }\n",
    "}\n",
    "\n",
    "export namespace Surface3d {\n",
    "  export type Attrs = p.AttrsOf<Props>\n",
    "\n",
    "  export type Props = LayoutDOM.Props & {\n",
    "    x: p.Property<string>\n",
    "    y: p.Property<string>\n",
    "    z: p.Property<string>\n",
    "    data_source: p.Property<ColumnDataSource>\n",
    "  }\n",
    "}\n",
    "\n",
    "export interface Surface3d extends Surface3d.Attrs {}\n",
    "\n",
    "export class Surface3d extends LayoutDOM {\n",
    "  properties: Surface3d.Props\n",
    "  __view_type__: Surface3dView\n",
    "\n",
    "  constructor(attrs?: Partial<Surface3d.Attrs>) {\n",
    "    super(attrs)\n",
    "  }\n",
    "\n",
    "  static __name__ = \"Surface3d\"\n",
    "\n",
    "  static init_Surface3d() {\n",
    "    this.prototype.default_view = Surface3dView\n",
    "\n",
    "    this.define<Surface3d.Props>({\n",
    "      x:            [ p.String   ],\n",
    "      y:            [ p.String   ],\n",
    "      z:            [ p.String   ],\n",
    "      data_source:  [ p.Instance ],\n",
    "    })\n",
    "  }\n",
    "}\n",
    "\"\"\"\n",
    "\n",
    "class Surface3d(LayoutDOM):\n",
    "    __implementation__ = TypeScript(TS_CODE)\n",
    "    data_source = Instance(ColumnDataSource)\n",
    "\n",
    "    x = String\n",
    "\n",
    "    y = String\n",
    "\n",
    "    z = String"
   ]
  },
  {
   "cell_type": "code",
   "execution_count": 20,
   "metadata": {},
   "outputs": [],
   "source": [
    "def plotter_heston(S0, kappa, theta, xi, \n",
    "                   v0=0.2, rho=-0.2, nb_steps=252, r=0.1, T=1):\n",
    "    vol = HeMC (S0, r, v0, rho, kappa, theta, xi, T, nb_steps)[1]\n",
    "    ny, nx=vol.shape\n",
    "    x = np.linspace(T, 0, nx)\n",
    "    y = np.linspace(0, 2*S0, ny)\n",
    "    xv, yv = np.meshgrid(x, y)\n",
    "    xv = xv.ravel() * 2e6\n",
    "    yv = yv.ravel() * 1e4\n",
    "    zv = vol.ravel() * 1e4\n",
    "    data = dict(x=xv, y=yv, z=zv)\n",
    "    source = ColumnDataSource(data=data)\n",
    "    surface = Surface3d(x=\"x\", y=\"y\", z=\"z\", data_source=source, width=6000, height=6000)\n",
    "    reset_output()\n",
    "    output_file('foo.html')\n",
    "    show(surface)"
   ]
  },
  {
   "cell_type": "code",
   "execution_count": 21,
   "metadata": {},
   "outputs": [
    {
     "data": {
      "application/vnd.jupyter.widget-view+json": {
       "model_id": "f8b2c32925b84ac0ad2dc84e157bcca0",
       "version_major": 2,
       "version_minor": 0
      },
      "text/plain": [
       "interactive(children=(IntSlider(value=100, description='Spot Price:', max=200), FloatText(value=0.3, descripti…"
      ]
     },
     "metadata": {},
     "output_type": "display_data"
    }
   ],
   "source": [
    "w = interact(lambda S, k, theta, xi, Acc, sig, B, Type, Model, T, n_p, n_s : Accumulator(S, k, theta, xi, Acc, sig, B, Type, Model, T, n_p, n_s), \n",
    "             S=widgets.IntSlider(min=0, max=200, step=1, value=100, description='Spot Price:'),\n",
    "             k=widgets.FloatText(value=0.3, description='Revert Rate:', disabled=False),\n",
    "             theta=widgets.FloatText(value=0.2, description='Long Term Vol:', disabled=False),\n",
    "             xi=widgets.FloatText(value=0.2, description='Vol of vol:', disabled=False), \n",
    "             Acc=widgets.IntSlider(min=0, max=200, step=10, value=70, description='Accu Level:'), \n",
    "             sig=widgets.FloatSlider(value=0.2, min=0, max=1.0, step=0.1, description='BS Vol:'),\n",
    "             B=widgets.IntSlider(min=0, max=200, step=10, value=110, description='Barrier:'),\n",
    "             Type=['Continuous', 'Discret'], \n",
    "             Model=['BS', 'Heston'], \n",
    "             T=widgets.BoundedFloatText(value=1, min=0, max=2.0, step=0.1, description='T:', disabled=False),\n",
    "             n_p=widgets.IntText(value=1000, description='Number path:', disabled=False),\n",
    "             n_s=widgets.IntText(value=252, description='Number Steps:', disabled=False))\n"
   ]
  },
  {
   "cell_type": "markdown",
   "metadata": {},
   "source": [
    "# Conclusion: API summarizing the whole project "
   ]
  },
  {
   "cell_type": "code",
   "execution_count": 22,
   "metadata": {},
   "outputs": [
    {
     "data": {
      "application/vnd.jupyter.widget-view+json": {
       "model_id": "7f6b8b8070834105b657c625cbb20961",
       "version_major": 2,
       "version_minor": 0
      },
      "text/plain": [
       "interactive(children=(Dropdown(description='Product', options=('Put', 'Call', 'Accumulator'), value='Put'), Ou…"
      ]
     },
     "metadata": {},
     "output_type": "display_data"
    }
   ],
   "source": [
    "def func(Product):\n",
    "    if Product == 'Put' :\n",
    "        w = interact(lambda I, N, K, S0, sig, T : plotter_eu_put( I, N, K, S0, sig, T), \n",
    "            I=widgets.IntSlider(min=10, max=30, step=1, value=20, description='Spot mesh I'), \n",
    "            N=widgets.IntSlider(min=10, max=30, step=1, value=20, description='Time Mesh N' ), \n",
    "            K=widgets.IntSlider(min=10, max=200, step=10, value=100, description='Strike K'), \n",
    "            S0=widgets.IntSlider(min=10, max=200, step=10, value=100, description='Spot S'), \n",
    "            sig=widgets.BoundedFloatText(value=0.2, min=0, max=1.0, step=0.1, description='Volatility:', disabled=False),\n",
    "            T=widgets.BoundedFloatText(value=1, min=0, max=2.0, step=0.1, description='Maturity:', disabled=False))\n",
    "    \n",
    "    elif Product == 'Call' :\n",
    "        w = interact(lambda I, N, K, S0, sig, T : plotter_eu_call( I, N, K, S0, sig, T), \n",
    "            I=widgets.IntSlider(min=10, max=30, step=1, value=20, description='Spot mesh I'), \n",
    "            N=widgets.IntSlider(min=10, max=30, step=1, value=20, description='Time Mesh N' ), \n",
    "            K=widgets.IntSlider(min=10, max=200, step=10, value=100, description='Strike K'), \n",
    "            S0=widgets.IntSlider(min=10, max=200, step=10, value=100, description='Spot S'), \n",
    "            sig=widgets.BoundedFloatText(value=0.2, min=0, max=1.0, step=0.1, description='Volatility:', disabled=False),\n",
    "            T=widgets.BoundedFloatText(value=1, min=0, max=2.0, step=0.1, description='Maturity:', disabled=False))\n",
    "        \n",
    "    elif Product == 'Accumulator' :\n",
    "        w = interact(lambda S, k, theta, xi, Acc, sig, B, Type, Model, T, n_p, n_s : Accumulator(S, k, theta, xi, Acc, sig, B, Type, Model, T, n_p, n_s), \n",
    "             S=widgets.IntSlider(min=0, max=200, step=1, value=100, description='Spot Price:'),\n",
    "             k=widgets.FloatText(value=0.3, description='Revert Rate:', disabled=False),\n",
    "             theta=widgets.FloatText(value=0.2, description='Long Term Vol:', disabled=False),\n",
    "             xi=widgets.FloatText(value=0.2, description='Vol of vol:', disabled=False), \n",
    "             Acc=widgets.IntSlider(min=0, max=200, step=10, value=70, description='Accu Level:'), \n",
    "             sig=widgets.FloatSlider(value=0.2, min=0, max=1.0, step=0.1, description='BS Vol:'),\n",
    "             B=widgets.IntSlider(min=0, max=200, step=10, value=110, description='Barrier:'),\n",
    "             Type=['Continuous', 'Discret'], \n",
    "             Model=['BS', 'Heston'], \n",
    "             T=widgets.BoundedFloatText(value=1, min=0, max=2.0, step=0.1, description='T:', disabled=False),\n",
    "             n_p=widgets.IntText(value=1000, description='Number path:', disabled=False),\n",
    "             n_s=widgets.IntText(value=252, description='Number Steps:', disabled=False))\n",
    "\n",
    "\n",
    "wf = interact(func, Product=['Put', 'Call', 'Accumulator'])"
   ]
  },
  {
   "cell_type": "markdown",
   "metadata": {},
   "source": [
    "# Testing of the code using the module ipytest"
   ]
  },
  {
   "cell_type": "code",
   "execution_count": 23,
   "metadata": {},
   "outputs": [],
   "source": [
    "import ipytest\n",
    "ipytest.autoconfig()"
   ]
  },
  {
   "cell_type": "code",
   "execution_count": 24,
   "metadata": {},
   "outputs": [
    {
     "name": "stdout",
     "output_type": "stream",
     "text": [
      "..                                                                       [100%]\n",
      "2 passed in 0.05s\n"
     ]
    }
   ],
   "source": [
    "%%run_pytest[clean]\n",
    "\n",
    "def test_vanilla_options():\n",
    "    assert np.round(P_BS(100, 100, 1),0) == np.round(C_BS(100, 100, 1),0) #ATM Call et Put options have the same price.\n",
    "    assert np.abs((C_BS(100, 150, 1)- P_BS(100, 150, 1) - (100 - 150))/(100 - 150))<0.03 # Verification of the put call parity.\n",
    "\n",
    "def test_comparison_BS_Euler():\n",
    "    #Verifications that the Euler implicit scheme give approximately the same results as the BS closed form formula.\n",
    "    assert np.round(np.abs(IE(20,20, 100, 100, sigma=sigma, T=T)[0][9]- P_BS(100, 100, 1)),0) == 0\n",
    "    Smax= 2 * 100\n",
    "    assert np.round(np.abs(IE(20,20, 100, 100, sigma=sigma, T=T)[0][19]-P_BS(Smax, 100, 1)),0) == 0\n",
    "    assert np.round(np.abs((IE(20,20, 100, 100, sigma=sigma, T=T)[0][0]-P_BS(0.0001, 100, 1))/P_BS(0.0001, 100, 1)),0)<0.01\n"
   ]
  },
  {
   "cell_type": "markdown",
   "metadata": {},
   "source": [
    "The folowwing tests check the following:\n",
    "\n",
    "1) All parameters being equal, an accumulator monitored discretely should be more expansive than an accumulator monitored continuously. Indeed, the probability that the barrier is reached is higher when it is monitored continuously. When the barrier level is breached then the consumer does not accumulate anymore while its objective is to buy at premium as much as he can (except in the very uncommon situation where the consumer does not want to buy at premium more than a certain quantity). Hence, it is not in his interest that the knock-out event happens.\n",
    "\n",
    "\n",
    "2) All parameters being equal, when the accumulation level gets closer to the barrier level then the price of the structure should decreases. Indeed, if the price at which the consumer is going to buy the underlying increases then the value of the accumulator must decrease."
   ]
  },
  {
   "cell_type": "code",
   "execution_count": 25,
   "metadata": {},
   "outputs": [
    {
     "name": "stdout",
     "output_type": "stream",
     "text": [
      "..                                                                       [100%]\n",
      "2 passed in 13.90s\n"
     ]
    }
   ],
   "source": [
    "%%run_pytest[clean]\n",
    "\n",
    "\n",
    "def test_accumulator_BS_barrier():\n",
    "    assert Accumulator(S0, kappa, theta, xi, Accumulationlevel, \n",
    "                sigma, B, 'Discretely', 'BS', T=T,\n",
    "                nb_path=nb_path, nb_steps=nb_steps, r=r) > Accumulator(S0, kappa, theta, xi, Accumulationlevel, \n",
    "                sigma, B, 'Continuous', 'BS', T=T,\n",
    "                nb_path=nb_path, nb_steps=nb_steps, r=r)\n",
    "\n",
    "def test_accumulator_BS_moneyness():\n",
    "    assert Accumulator(S0, kappa, theta, xi, 70, \n",
    "                sigma, B, 'Discretely', 'BS', T=T,\n",
    "                nb_path=nb_path, nb_steps=nb_steps, r=r) > Accumulator(S0, kappa, theta, xi, 80, \n",
    "                sigma, B, 'Continuous', 'BS', T=T,\n",
    "                nb_path=nb_path, nb_steps=nb_steps, r=r)   \n"
   ]
  }
 ],
 "metadata": {
  "celltoolbar": "Format de la Cellule Texte Brut",
  "kernelspec": {
   "display_name": "Python 3",
   "language": "python",
   "name": "python3"
  },
  "language_info": {
   "codemirror_mode": {
    "name": "ipython",
    "version": 3
   },
   "file_extension": ".py",
   "mimetype": "text/x-python",
   "name": "python",
   "nbconvert_exporter": "python",
   "pygments_lexer": "ipython3",
   "version": "3.8.5"
  }
 },
 "nbformat": 4,
 "nbformat_minor": 4
}
